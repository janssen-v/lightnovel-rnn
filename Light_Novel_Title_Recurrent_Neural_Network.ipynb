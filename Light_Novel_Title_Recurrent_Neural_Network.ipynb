{
  "cells": [
    {
      "cell_type": "markdown",
      "metadata": {
        "id": "1_zfeOsF-0zx"
      },
      "source": [
        "### Import Libraries\n",
        "\n",
        "\n",
        "---\n",
        "\n"
      ]
    },
    {
      "cell_type": "code",
      "execution_count": 1,
      "metadata": {
        "id": "SfAtmhSa9M91"
      },
      "outputs": [],
      "source": [
        "import tensorflow as tf\n",
        "import numpy as np\n",
        "import os\n",
        "import time"
      ]
    },
    {
      "cell_type": "markdown",
      "metadata": {
        "id": "NhyW2FeHYw8m"
      },
      "source": [
        "### Check GPU functionality"
      ]
    },
    {
      "cell_type": "code",
      "execution_count": 2,
      "metadata": {},
      "outputs": [
        {
          "data": {
            "text/plain": [
              "[PhysicalDevice(name='/physical_device:GPU:0', device_type='GPU')]"
            ]
          },
          "execution_count": 2,
          "metadata": {},
          "output_type": "execute_result"
        }
      ],
      "source": [
        "tf.config.list_physical_devices('GPU')"
      ]
    },
    {
      "cell_type": "code",
      "execution_count": 3,
      "metadata": {},
      "outputs": [
        {
          "data": {
            "text/plain": [
              "True"
            ]
          },
          "execution_count": 3,
          "metadata": {},
          "output_type": "execute_result"
        }
      ],
      "source": [
        "tf.test.is_built_with_cuda()"
      ]
    },
    {
      "cell_type": "code",
      "execution_count": 4,
      "metadata": {
        "colab": {
          "base_uri": "https://localhost:8080/"
        },
        "id": "LSG4PEtLY4nJ",
        "outputId": "78fcb770-9a94-48bf-beb3-71825bacd925"
      },
      "outputs": [
        {
          "name": "stdout",
          "output_type": "stream",
          "text": [
            "Fri Feb 11 16:47:13 2022       \n",
            "+-----------------------------------------------------------------------------+\n",
            "| NVIDIA-SMI 511.23       Driver Version: 511.23       CUDA Version: 11.6     |\n",
            "|-------------------------------+----------------------+----------------------+\n",
            "| GPU  Name            TCC/WDDM | Bus-Id        Disp.A | Volatile Uncorr. ECC |\n",
            "| Fan  Temp  Perf  Pwr:Usage/Cap|         Memory-Usage | GPU-Util  Compute M. |\n",
            "|                               |                      |               MIG M. |\n",
            "|===============================+======================+======================|\n",
            "|   0  NVIDIA GeForce ... WDDM  | 00000000:01:00.0  On |                  N/A |\n",
            "|  0%   40C    P2    45W / 216W |   1110MiB /  8192MiB |      2%      Default |\n",
            "|                               |                      |                  N/A |\n",
            "+-------------------------------+----------------------+----------------------+\n",
            "                                                                               \n",
            "+-----------------------------------------------------------------------------+\n",
            "| Processes:                                                                  |\n",
            "|  GPU   GI   CI        PID   Type   Process name                  GPU Memory |\n",
            "|        ID   ID                                                   Usage      |\n",
            "|=============================================================================|\n",
            "|    0   N/A  N/A      1204    C+G                                   N/A      |\n",
            "|    0   N/A  N/A      2052    C+G   ...\\app-1.0.9003\\Discord.exe    N/A      |\n",
            "|    0   N/A  N/A      2560    C+G   ...perience\\NVIDIA Share.exe    N/A      |\n",
            "|    0   N/A  N/A      3648    C+G   ...ekyb3d8bbwe\\HxOutlook.exe    N/A      |\n",
            "|    0   N/A  N/A      7096    C+G   ...n1h2txyewy\\SearchHost.exe    N/A      |\n",
            "|    0   N/A  N/A     10348    C+G   C:\\Windows\\explorer.exe         N/A      |\n",
            "|    0   N/A  N/A     10960    C+G   ... WARP\\Cloudflare WARP.exe    N/A      |\n",
            "|    0   N/A  N/A     11256    C+G   ...artMenuExperienceHost.exe    N/A      |\n",
            "|    0   N/A  N/A     11536    C+G   ...8bbwe\\Microsoft.Notes.exe    N/A      |\n",
            "|    0   N/A  N/A     11736      C   ...nce\\miniconda3\\python.exe    N/A      |\n",
            "|    0   N/A  N/A     12104    C+G   ...wekyb3d8bbwe\\Video.UI.exe    N/A      |\n",
            "|    0   N/A  N/A     12436    C+G   ...y\\ShellExperienceHost.exe    N/A      |\n",
            "|    0   N/A  N/A     13044    C+G   ...ekyb3d8bbwe\\YourPhone.exe    N/A      |\n",
            "|    0   N/A  N/A     13320    C+G   ...in7x64\\steamwebhelper.exe    N/A      |\n",
            "|    0   N/A  N/A     13572    C+G   ...cw5n1h2txyewy\\LockApp.exe    N/A      |\n",
            "|    0   N/A  N/A     14012    C+G   ...ge\\Application\\msedge.exe    N/A      |\n",
            "|    0   N/A  N/A     15672    C+G   ...fyw5nnt\\app\\Messenger.exe    N/A      |\n",
            "|    0   N/A  N/A     15756    C+G   ...e\\Current\\LogiOverlay.exe    N/A      |\n",
            "|    0   N/A  N/A     16044    C+G   ...urrent\\LogiOptionsMgr.exe    N/A      |\n",
            "|    0   N/A  N/A     16184    C+G   ...2txyewy\\TextInputHost.exe    N/A      |\n",
            "|    0   N/A  N/A     16844    C+G   ...bbwe\\Microsoft.Photos.exe    N/A      |\n",
            "|    0   N/A  N/A     20092    C+G   ..._nzyj5cx40ttqa\\iTunes.exe    N/A      |\n",
            "|    0   N/A  N/A     25116    C+G   ...icrosoft VS Code\\Code.exe    N/A      |\n",
            "+-----------------------------------------------------------------------------+\n"
          ]
        }
      ],
      "source": [
        "tf.test.gpu_device_name()\n",
        "!nvidia-smi"
      ]
    },
    {
      "cell_type": "markdown",
      "metadata": {
        "id": "wQ0rqO5yOM0u"
      },
      "source": [
        "### Download Light Novel Title dataset\n"
      ]
    },
    {
      "cell_type": "code",
      "execution_count": 5,
      "metadata": {
        "colab": {
          "base_uri": "https://localhost:8080/"
        },
        "id": "CpPz1KLOOWOs",
        "outputId": "1410aef5-f244-4da2-8e0b-e7b4ca2873e3"
      },
      "outputs": [],
      "source": [
        "filepath = tf.keras.utils.get_file('light_novel_titles_clean_v2.txt', 'https://drive.google.com/uc?export=download&id=13ExvJcOr0l8LZD1gHCiYJn2C_pKx8v1D')"
      ]
    },
    {
      "cell_type": "markdown",
      "metadata": {
        "id": "pCfdO4Z-PI4R"
      },
      "source": [
        "### Check data content"
      ]
    },
    {
      "cell_type": "code",
      "execution_count": 6,
      "metadata": {
        "colab": {
          "base_uri": "https://localhost:8080/"
        },
        "id": "IQqEBgkMPU6T",
        "outputId": "8a61c56d-dddc-4dfe-c0cc-3f0b24af4471"
      },
      "outputs": [
        {
          "name": "stdout",
          "output_type": "stream",
          "text": [
            "Length of text: 60422 characters\n"
          ]
        }
      ],
      "source": [
        "text = open(filepath, 'rb').read().decode(encoding='utf-16')\n",
        "print(f'Length of text: {len(text)} characters')"
      ]
    },
    {
      "cell_type": "code",
      "execution_count": 7,
      "metadata": {
        "colab": {
          "base_uri": "https://localhost:8080/"
        },
        "id": "oCzz485BQByf",
        "outputId": "60ec7942-77f9-42af-c946-98e0f06ba4c3"
      },
      "outputs": [
        {
          "name": "stdout",
          "output_type": "stream",
          "text": [
            "\"Thereafter of an Exiled Magician ~Somehow My Engagement Was Cancelled, and I Was Driven Out, so I Will Stop Living the Tough Aristocrat Life, and Live Leisurely in a Distant, Foreign, Developing Village~\"\t\n",
            "Mahoutsukai no Konyakusha (LN)\t\n",
            "Exiled Pr\n"
          ]
        }
      ],
      "source": [
        "# Check first 250 characters\n",
        "print(text[:250])"
      ]
    },
    {
      "cell_type": "code",
      "execution_count": 8,
      "metadata": {
        "colab": {
          "base_uri": "https://localhost:8080/"
        },
        "id": "8mC4pUsVQH6c",
        "outputId": "43a320bd-d5e7-4ed8-843f-f49707571fae"
      },
      "outputs": [
        {
          "name": "stdout",
          "output_type": "stream",
          "text": [
            "118 unique characters\n"
          ]
        }
      ],
      "source": [
        "# Check amount of unique characters\n",
        "vocab = sorted(set(text))\n",
        "print(f'{len(vocab)} unique characters')\n"
      ]
    },
    {
      "cell_type": "markdown",
      "metadata": {
        "id": "iIKgtLtvQS2X"
      },
      "source": [
        "## Text Processing"
      ]
    },
    {
      "cell_type": "markdown",
      "metadata": {
        "id": "9Fs2ym7zQWp5"
      },
      "source": [
        "### Text Vectorization\n"
      ]
    },
    {
      "cell_type": "code",
      "execution_count": 9,
      "metadata": {
        "id": "rZPafTGNQa5r"
      },
      "outputs": [],
      "source": [
        "chars_to_ids = tf.keras.layers.StringLookup(vocabulary=list(vocab), mask_token=None)\n",
        "ids_to_chars = tf.keras.layers.StringLookup(vocabulary=chars_to_ids.get_vocabulary(), invert=True, mask_token=None)\n",
        "\n",
        "def text_from_ids(ids):\n",
        "  return tf.strings.reduce_join(ids_to_chars(ids), axis =-1)"
      ]
    },
    {
      "cell_type": "markdown",
      "metadata": {
        "id": "BqRYOGX-RxXA"
      },
      "source": [
        "### Training Examples"
      ]
    },
    {
      "cell_type": "code",
      "execution_count": 10,
      "metadata": {
        "colab": {
          "base_uri": "https://localhost:8080/"
        },
        "id": "RH47CRBFRzkl",
        "outputId": "5d2e6748-dac5-44d1-df41-fa17cecb88aa"
      },
      "outputs": [
        {
          "data": {
            "text/plain": [
              "<tf.Tensor: shape=(60422,), dtype=int64, numpy=array([ 6, 50, 66, ...,  1,  3,  2], dtype=int64)>"
            ]
          },
          "execution_count": 10,
          "metadata": {},
          "output_type": "execute_result"
        }
      ],
      "source": [
        "all_ids = chars_to_ids(tf.strings.unicode_split(text,'UTF-8'))\n",
        "all_ids"
      ]
    },
    {
      "cell_type": "code",
      "execution_count": 11,
      "metadata": {
        "id": "XS3kzwSoSN6N"
      },
      "outputs": [],
      "source": [
        "ids_dataset = tf.data.Dataset.from_tensor_slices(all_ids)"
      ]
    },
    {
      "cell_type": "code",
      "execution_count": 12,
      "metadata": {
        "colab": {
          "base_uri": "https://localhost:8080/"
        },
        "id": "iKRUKaw0SSj1",
        "outputId": "aa915f88-417f-4b8f-93be-aef2c5c97020"
      },
      "outputs": [
        {
          "name": "stdout",
          "output_type": "stream",
          "text": [
            "\"\n",
            "T\n",
            "h\n",
            "e\n",
            "r\n",
            "e\n",
            "a\n",
            "f\n",
            "t\n",
            "e\n"
          ]
        }
      ],
      "source": [
        "for ids in ids_dataset.take(10):\n",
        "  print(ids_to_chars(ids).numpy().decode('UTF-8'))"
      ]
    },
    {
      "cell_type": "code",
      "execution_count": 13,
      "metadata": {
        "id": "gV4jHePrSfVM"
      },
      "outputs": [],
      "source": [
        "seq_length = 100\n",
        "examples_per_epoch = len(text)//(seq_length)+1\n"
      ]
    },
    {
      "cell_type": "code",
      "execution_count": 14,
      "metadata": {
        "colab": {
          "base_uri": "https://localhost:8080/"
        },
        "id": "vjhJHoI1S9nB",
        "outputId": "428be123-1396-4375-d50d-09340340b656"
      },
      "outputs": [
        {
          "name": "stdout",
          "output_type": "stream",
          "text": [
            "tf.Tensor(\n",
            "[b'\"' b'T' b'h' b'e' b'r' b'e' b'a' b'f' b't' b'e' b'r' b' ' b'o' b'f'\n",
            " b' ' b'a' b'n' b' ' b'E' b'x' b'i' b'l' b'e' b'd' b' ' b'M' b'a' b'g'\n",
            " b'i' b'c' b'i' b'a' b'n' b' ' b'~' b'S' b'o' b'm' b'e' b'h' b'o' b'w'\n",
            " b' ' b'M' b'y' b' ' b'E' b'n' b'g' b'a' b'g' b'e' b'm' b'e' b'n' b't'\n",
            " b' ' b'W' b'a' b's' b' ' b'C' b'a' b'n' b'c' b'e' b'l' b'l' b'e' b'd'\n",
            " b',' b' ' b'a' b'n' b'd' b' ' b'I' b' ' b'W' b'a' b's' b' ' b'D' b'r'\n",
            " b'i' b'v' b'e' b'n' b' ' b'O' b'u' b't' b',' b' ' b's' b'o' b' ' b'I'\n",
            " b' ' b'W' b'i'], shape=(101,), dtype=string)\n"
          ]
        }
      ],
      "source": [
        "sequences = ids_dataset.batch(seq_length+1, drop_remainder=True)\n",
        "for seq in sequences.take(1):\n",
        "  print(ids_to_chars(seq))"
      ]
    },
    {
      "cell_type": "code",
      "execution_count": 15,
      "metadata": {
        "colab": {
          "base_uri": "https://localhost:8080/"
        },
        "id": "pkmdSG02TCKj",
        "outputId": "13bae08e-9b39-4ca1-dce4-bc75eb617bfe"
      },
      "outputs": [
        {
          "name": "stdout",
          "output_type": "stream",
          "text": [
            "b'\"Thereafter of an Exiled Magician ~Somehow My Engagement Was Cancelled, and I Was Driven Out, so I Wi'\n",
            "b'll Stop Living the Tough Aristocrat Life, and Live Leisurely in a Distant, Foreign, Developing Villag'\n",
            "b'e~\"\\t\\r\\nMahoutsukai no Konyakusha (LN)\\t\\r\\nExiled Prince Without Skills: Infinite Growth in a Mysterious '\n",
            "b'Dungeon\\t\\r\\nReincarnation Of The Strongest Sword God\\t\\r\\nHard Work Will Never Betray Me (LN)\\t\\r\\nThe Protag'\n",
            "b'onists Are Murdered by Me\\t\\r\\nInfinite Lucky Emperor\\t\\r\\nStarting from the Dragon Tribe\\t\\r\\nArs Goetia \\xe2\\x80\\x93 Th'\n"
          ]
        }
      ],
      "source": [
        "for seq in sequences.take(5):\n",
        "  print(text_from_ids(seq).numpy())"
      ]
    },
    {
      "cell_type": "code",
      "execution_count": 16,
      "metadata": {
        "id": "z5IKGxNUTIHz"
      },
      "outputs": [],
      "source": [
        "def split_input_target(sequence):\n",
        "  input_text = sequence[:-1]\n",
        "  target_text = sequence[1:]\n",
        "  return input_text, target_text"
      ]
    },
    {
      "cell_type": "code",
      "execution_count": 17,
      "metadata": {
        "id": "j-72859KTSd4"
      },
      "outputs": [],
      "source": [
        "dataset = sequences.map(split_input_target)"
      ]
    },
    {
      "cell_type": "code",
      "execution_count": 18,
      "metadata": {
        "colab": {
          "base_uri": "https://localhost:8080/"
        },
        "id": "c808j6SUTg82",
        "outputId": "80d5e3e2-88de-466c-d54c-9ce8d14f0060"
      },
      "outputs": [
        {
          "name": "stdout",
          "output_type": "stream",
          "text": [
            "Input: b'\"Thereafter of an Exiled Magician ~Somehow My Engagement Was Cancelled, and I Was Driven Out, so I W'\n",
            "Target: b'Thereafter of an Exiled Magician ~Somehow My Engagement Was Cancelled, and I Was Driven Out, so I Wi'\n"
          ]
        }
      ],
      "source": [
        "for input_example, target_example in dataset.take(1):\n",
        "  print(\"Input:\", text_from_ids(input_example).numpy())\n",
        "  print(\"Target:\", text_from_ids(target_example).numpy())"
      ]
    },
    {
      "cell_type": "markdown",
      "metadata": {
        "id": "INvxDniVTvA9"
      },
      "source": [
        "### Training batch creation"
      ]
    },
    {
      "cell_type": "code",
      "execution_count": 19,
      "metadata": {
        "colab": {
          "base_uri": "https://localhost:8080/"
        },
        "id": "qczZGEqhTyoe",
        "outputId": "d45dc51e-086a-4c95-e350-5566d99cdf81"
      },
      "outputs": [
        {
          "data": {
            "text/plain": [
              "<PrefetchDataset element_spec=(TensorSpec(shape=(64, 100), dtype=tf.int64, name=None), TensorSpec(shape=(64, 100), dtype=tf.int64, name=None))>"
            ]
          },
          "execution_count": 19,
          "metadata": {},
          "output_type": "execute_result"
        }
      ],
      "source": [
        "# Batch size\n",
        "BATCH_SIZE = 64\n",
        "# Buffer size for dataset shuffle\n",
        "BUFFER_SIZE = 10000\n",
        "\n",
        "dataset = (\n",
        "    dataset\n",
        "    .shuffle(BUFFER_SIZE)\n",
        "    .batch(BATCH_SIZE, drop_remainder=True)\n",
        "    .prefetch(tf.data.experimental.AUTOTUNE))\n",
        "\n",
        "dataset"
      ]
    },
    {
      "cell_type": "markdown",
      "metadata": {
        "id": "k1FKUbFOUMkp"
      },
      "source": [
        "## Build Model"
      ]
    },
    {
      "cell_type": "code",
      "execution_count": 20,
      "metadata": {
        "id": "mEOirm8pUOiN"
      },
      "outputs": [],
      "source": [
        "# Length of vocabulary in chars\n",
        "vocab_size = len(vocab)\n",
        "\n",
        "# Embedding dimension\n",
        "embedding_dim = 256\n",
        "\n",
        "# Number of RNN units\n",
        "rnn_units = 1024"
      ]
    },
    {
      "cell_type": "code",
      "execution_count": 23,
      "metadata": {
        "id": "M7YJXnDxUbEb"
      },
      "outputs": [],
      "source": [
        "class MyModel(tf.keras.Model):\n",
        "  def __init__(self, vocab_size, embedding_dim, rnn_units):\n",
        "    super().__init__(self)\n",
        "    self.embedding = tf.keras.layers.Embedding(vocab_size, embedding_dim)\n",
        "    self.gru = tf.keras.layers.GRU(rnn_units,\n",
        "                                   return_sequences=True,\n",
        "                                   return_state=True)\n",
        "    self.dense = tf.keras.layers.Dense(vocab_size)\n",
        "                                    \n",
        "  def call(self, inputs, states=None, return_state=False, training=False):\n",
        "    x = inputs\n",
        "    x = self.embedding(x, training=training)\n",
        "    if states is None:\n",
        "      states = self.gru.get_initial_state(x)\n",
        "    x, states = self.gru(x, initial_state=states, training=training)\n",
        "    x = self.dense(x, training=training)\n",
        "\n",
        "    if return_state:\n",
        "      return x, states\n",
        "    else:\n",
        "      return x"
      ]
    },
    {
      "cell_type": "code",
      "execution_count": 24,
      "metadata": {
        "id": "32zRGBSzVWA6"
      },
      "outputs": [],
      "source": [
        "model = MyModel(\n",
        "    # Be sure vocabulary size matches the 'StringLookup' layers.\n",
        "    vocab_size=len(chars_to_ids.get_vocabulary()),\n",
        "    embedding_dim=embedding_dim,\n",
        "    rnn_units=rnn_units)\n"
      ]
    },
    {
      "cell_type": "markdown",
      "metadata": {
        "id": "U3LFJfz2VysI"
      },
      "source": [
        "## Model test"
      ]
    },
    {
      "cell_type": "code",
      "execution_count": 25,
      "metadata": {
        "colab": {
          "base_uri": "https://localhost:8080/"
        },
        "id": "kmvtJ-ugV2V6",
        "outputId": "36d2c19b-4b61-4057-93f7-ecb13fcd1190"
      },
      "outputs": [
        {
          "name": "stdout",
          "output_type": "stream",
          "text": [
            "(64, 100, 119) (batch_size, sequence_length, vocab_size)\n"
          ]
        }
      ],
      "source": [
        "for input_example_batch, target_example_batch in dataset.take(1):\n",
        "  example_batch_predictions = model(input_example_batch)\n",
        "  print(example_batch_predictions.shape, \"(batch_size, sequence_length, vocab_size)\")"
      ]
    },
    {
      "cell_type": "code",
      "execution_count": 26,
      "metadata": {
        "colab": {
          "base_uri": "https://localhost:8080/"
        },
        "id": "MY3GG7UZWF_2",
        "outputId": "9ac251ca-9f23-4f7f-b60f-aff0f2d2a9ff"
      },
      "outputs": [
        {
          "name": "stdout",
          "output_type": "stream",
          "text": [
            "Model: \"my_model\"\n",
            "_________________________________________________________________\n",
            " Layer (type)                Output Shape              Param #   \n",
            "=================================================================\n",
            " embedding (Embedding)       multiple                  30464     \n",
            "                                                                 \n",
            " gru (GRU)                   multiple                  3938304   \n",
            "                                                                 \n",
            " dense (Dense)               multiple                  121975    \n",
            "                                                                 \n",
            "=================================================================\n",
            "Total params: 4,090,743\n",
            "Trainable params: 4,090,743\n",
            "Non-trainable params: 0\n",
            "_________________________________________________________________\n"
          ]
        }
      ],
      "source": [
        "model.summary()"
      ]
    },
    {
      "cell_type": "code",
      "execution_count": 27,
      "metadata": {
        "id": "bjyEr57EWKg7"
      },
      "outputs": [],
      "source": [
        "sampled_indices = tf.random.categorical(example_batch_predictions[0], num_samples = 1)\n",
        "sampled_indices = tf.squeeze(sampled_indices, axis=-1).numpy()"
      ]
    },
    {
      "cell_type": "code",
      "execution_count": 28,
      "metadata": {
        "colab": {
          "base_uri": "https://localhost:8080/"
        },
        "id": "eF0n23hwWa3D",
        "outputId": "95e88d88-eea8-4b8f-8621-ef7e67eb972a"
      },
      "outputs": [
        {
          "data": {
            "text/plain": [
              "array([ 64,  26,  14,  27,  62,  51,  83, 117,  67,   3,  40,  62,  23,\n",
              "        77,  40,  86,  18,  62,  22,  81,  16,  86,  99,   1,  10, 115,\n",
              "        53,   4,  14,  39, 118,   7,  48,  19,  70, 100,  85,  19,  52,\n",
              "        19,  61, 101,  42,  43,  21,   4,  79,  46,  23,  62,  71,  20,\n",
              "        90,  98,  89,   0,  81, 104,  64,  40,  21, 102,  84,  63,  36,\n",
              "        15,  32,  76,  75, 102,  59,   3,  88,  13,   6,  29,  33,  44,\n",
              "        62,  21,  36, 112,  37,  50,   4, 117, 113,  90, 112,  69,  53,\n",
              "        29,  90,  79, 105,  37,  99,  40,  84,  47], dtype=int64)"
            ]
          },
          "execution_count": 28,
          "metadata": {},
          "output_type": "execute_result"
        }
      ],
      "source": [
        "sampled_indices"
      ]
    },
    {
      "cell_type": "code",
      "execution_count": 29,
      "metadata": {
        "colab": {
          "base_uri": "https://localhost:8080/"
        },
        "id": "QrrzRkSFWdFf",
        "outputId": "2e06cc52-acd1-4976-b446-cca339e298fb"
      },
      "outputs": [
        {
          "name": "stdout",
          "output_type": "stream",
          "text": [
            "Input:\n",
            " b'level Store Manager\\t\\r\\n\"The Dismissed Royal Magician is Returning Home ~The Country is a Facing Crisi'\n",
            "\n",
            "Next Char Predictions:\n",
            " b'f8,9dUy\\xef\\xbc\\x9ai\\rJd5sJ\\xc2\\x810d4w.\\xc2\\x81\\xc5\\x93\\t(\\xe3\\x80\\x91W ,I\\xef\\xbd\\x9e%R1l\\xc5\\xa0~1V1c\\xcb\\x9cLM3 uP5dm2\\xc2\\xa0\\xc5\\x8d\\xc2\\x9d[UNK]w\\xe2\\x80\\x98fJ3\\xe2\\x80\\x93zeF-Brq\\xe2\\x80\\x93a\\r\\xc2\\x90+\"=CNd3F\\xe3\\x80\\x8cGT \\xef\\xbc\\x9a\\xe3\\x80\\x8d\\xc2\\xa0\\xe3\\x80\\x8ckW=\\xc2\\xa0u\\xe2\\x80\\x99G\\xc5\\x93JzQ'\n"
          ]
        }
      ],
      "source": [
        "# Decode untrained model prediction\n",
        "print(\"Input:\\n\", text_from_ids(input_example_batch[0]).numpy())\n",
        "print()\n",
        "print(\"Next Char Predictions:\\n\", text_from_ids(sampled_indices).numpy())"
      ]
    },
    {
      "cell_type": "markdown",
      "metadata": {
        "id": "XN8SHc7dWv9x"
      },
      "source": [
        "## Model Training"
      ]
    },
    {
      "cell_type": "markdown",
      "metadata": {
        "id": "T_i5Cdk5WySF"
      },
      "source": [
        "### Optimizer and Loss Function"
      ]
    },
    {
      "cell_type": "code",
      "execution_count": 30,
      "metadata": {
        "id": "py82VpQIW0Kz"
      },
      "outputs": [],
      "source": [
        "loss = tf.losses.SparseCategoricalCrossentropy(from_logits=True)"
      ]
    },
    {
      "cell_type": "code",
      "execution_count": 31,
      "metadata": {
        "colab": {
          "base_uri": "https://localhost:8080/"
        },
        "id": "X7-7zXkXW6C1",
        "outputId": "37e7ae02-5337-408e-dc46-50ec61e36fb0"
      },
      "outputs": [
        {
          "name": "stdout",
          "output_type": "stream",
          "text": [
            "Prediction shape:  (64, 100, 119) (batch_size, sequence_length, vocab_size)\n",
            "Mean loss:         tf.Tensor(4.7796, shape=(), dtype=float32)\n"
          ]
        }
      ],
      "source": [
        "example_batch_mean_loss = loss(target_example_batch, example_batch_predictions)\n",
        "print(\"Prediction shape: \", example_batch_predictions.shape, \"(batch_size, sequence_length, vocab_size)\")\n",
        "print(\"Mean loss:        \", example_batch_mean_loss)\n"
      ]
    },
    {
      "cell_type": "code",
      "execution_count": 32,
      "metadata": {
        "colab": {
          "base_uri": "https://localhost:8080/"
        },
        "id": "dLtp5lxpXTQy",
        "outputId": "a615a057-35b3-4138-8917-d0f92660cacb"
      },
      "outputs": [
        {
          "data": {
            "text/plain": [
              "119.05674"
            ]
          },
          "execution_count": 32,
          "metadata": {},
          "output_type": "execute_result"
        }
      ],
      "source": [
        "tf.exp(example_batch_mean_loss).numpy()"
      ]
    },
    {
      "cell_type": "code",
      "execution_count": 33,
      "metadata": {
        "id": "aGscm8OrXXDN"
      },
      "outputs": [],
      "source": [
        "model.compile(optimizer='adam', loss=loss)"
      ]
    },
    {
      "cell_type": "markdown",
      "metadata": {
        "id": "42f05c8fXbQk"
      },
      "source": [
        "### Configure checkpoints"
      ]
    },
    {
      "cell_type": "code",
      "execution_count": 34,
      "metadata": {
        "id": "AQUf0HRCXdOD"
      },
      "outputs": [],
      "source": [
        "# Checkpoint save directory\n",
        "checkpoint_dir = './training_checkpoints'\n",
        "\n",
        "# Name of checkpoint files\n",
        "checkpoint_prefix = os.path.join(checkpoint_dir, \"ckpt_{epoch}\")\n",
        "\n",
        "checkpoint_callback = tf.keras.callbacks.ModelCheckpoint(\n",
        "    filepath=checkpoint_prefix,\n",
        "    save_weights_only=True)"
      ]
    },
    {
      "cell_type": "markdown",
      "metadata": {
        "id": "61dTVqYuXsZ_"
      },
      "source": [
        "### Start training"
      ]
    },
    {
      "cell_type": "code",
      "execution_count": 35,
      "metadata": {
        "id": "2-a4RTFQXvTh"
      },
      "outputs": [],
      "source": [
        "EPOCHS=100"
      ]
    },
    {
      "cell_type": "code",
      "execution_count": 36,
      "metadata": {
        "colab": {
          "base_uri": "https://localhost:8080/"
        },
        "id": "-JsaNkmGXxGL",
        "outputId": "bac21fd6-6ae7-4e60-bc28-47d83ef79e7d"
      },
      "outputs": [
        {
          "name": "stdout",
          "output_type": "stream",
          "text": [
            "Epoch 1/100\n",
            "9/9 [==============================] - 4s 115ms/step - loss: 4.8178\n",
            "Epoch 2/100\n",
            "9/9 [==============================] - 1s 111ms/step - loss: 4.2993\n",
            "Epoch 3/100\n",
            "9/9 [==============================] - 1s 113ms/step - loss: 3.6609\n",
            "Epoch 4/100\n",
            "9/9 [==============================] - 1s 113ms/step - loss: 3.3490\n",
            "Epoch 5/100\n",
            "9/9 [==============================] - 3s 305ms/step - loss: 3.1359\n",
            "Epoch 6/100\n",
            "9/9 [==============================] - 1s 109ms/step - loss: 2.8754\n",
            "Epoch 7/100\n",
            "9/9 [==============================] - 1s 105ms/step - loss: 2.6746\n",
            "Epoch 8/100\n",
            "9/9 [==============================] - 1s 107ms/step - loss: 2.5696\n",
            "Epoch 9/100\n",
            "9/9 [==============================] - 1s 105ms/step - loss: 2.5001\n",
            "Epoch 10/100\n",
            "9/9 [==============================] - 1s 105ms/step - loss: 2.4506\n",
            "Epoch 11/100\n",
            "9/9 [==============================] - 1s 107ms/step - loss: 2.4040\n",
            "Epoch 12/100\n",
            "9/9 [==============================] - 1s 107ms/step - loss: 2.3634\n",
            "Epoch 13/100\n",
            "9/9 [==============================] - 1s 106ms/step - loss: 2.3301\n",
            "Epoch 14/100\n",
            "9/9 [==============================] - 1s 103ms/step - loss: 2.2996\n",
            "Epoch 15/100\n",
            "9/9 [==============================] - 1s 118ms/step - loss: 2.2677\n",
            "Epoch 16/100\n",
            "9/9 [==============================] - 1s 103ms/step - loss: 2.2394\n",
            "Epoch 17/100\n",
            "9/9 [==============================] - 1s 127ms/step - loss: 2.2109\n",
            "Epoch 18/100\n",
            "9/9 [==============================] - 1s 105ms/step - loss: 2.1859\n",
            "Epoch 19/100\n",
            "9/9 [==============================] - 1s 102ms/step - loss: 2.1587\n",
            "Epoch 20/100\n",
            "9/9 [==============================] - 1s 97ms/step - loss: 2.1336\n",
            "Epoch 21/100\n",
            "9/9 [==============================] - 1s 103ms/step - loss: 2.1076\n",
            "Epoch 22/100\n",
            "9/9 [==============================] - 1s 112ms/step - loss: 2.0876\n",
            "Epoch 23/100\n",
            "9/9 [==============================] - 1s 108ms/step - loss: 2.0608\n",
            "Epoch 24/100\n",
            "9/9 [==============================] - 1s 133ms/step - loss: 2.0319\n",
            "Epoch 25/100\n",
            "9/9 [==============================] - 1s 106ms/step - loss: 2.0062\n",
            "Epoch 26/100\n",
            "9/9 [==============================] - 1s 107ms/step - loss: 1.9777\n",
            "Epoch 27/100\n",
            "9/9 [==============================] - 1s 110ms/step - loss: 1.9511\n",
            "Epoch 28/100\n",
            "9/9 [==============================] - 1s 118ms/step - loss: 1.9229\n",
            "Epoch 29/100\n",
            "9/9 [==============================] - 1s 105ms/step - loss: 1.8925\n",
            "Epoch 30/100\n",
            "9/9 [==============================] - 1s 104ms/step - loss: 1.8581\n",
            "Epoch 31/100\n",
            "9/9 [==============================] - 1s 101ms/step - loss: 1.8254\n",
            "Epoch 32/100\n",
            "9/9 [==============================] - 1s 105ms/step - loss: 1.7955\n",
            "Epoch 33/100\n",
            "9/9 [==============================] - 1s 119ms/step - loss: 1.7637\n",
            "Epoch 34/100\n",
            "9/9 [==============================] - 1s 106ms/step - loss: 1.7302\n",
            "Epoch 35/100\n",
            "9/9 [==============================] - 1s 104ms/step - loss: 1.6942\n",
            "Epoch 36/100\n",
            "9/9 [==============================] - 1s 104ms/step - loss: 1.6630\n",
            "Epoch 37/100\n",
            "9/9 [==============================] - 1s 102ms/step - loss: 1.6275\n",
            "Epoch 38/100\n",
            "9/9 [==============================] - 1s 103ms/step - loss: 1.5928\n",
            "Epoch 39/100\n",
            "9/9 [==============================] - 1s 101ms/step - loss: 1.5496\n",
            "Epoch 40/100\n",
            "9/9 [==============================] - 1s 105ms/step - loss: 1.5131\n",
            "Epoch 41/100\n",
            "9/9 [==============================] - 1s 104ms/step - loss: 1.4780\n",
            "Epoch 42/100\n",
            "9/9 [==============================] - 1s 104ms/step - loss: 1.4350\n",
            "Epoch 43/100\n",
            "9/9 [==============================] - 1s 98ms/step - loss: 1.3929\n",
            "Epoch 44/100\n",
            "9/9 [==============================] - 1s 98ms/step - loss: 1.3517\n",
            "Epoch 45/100\n",
            "9/9 [==============================] - 1s 103ms/step - loss: 1.3133\n",
            "Epoch 46/100\n",
            "9/9 [==============================] - 1s 105ms/step - loss: 1.2651\n",
            "Epoch 47/100\n",
            "9/9 [==============================] - 1s 106ms/step - loss: 1.2177\n",
            "Epoch 48/100\n",
            "9/9 [==============================] - 1s 109ms/step - loss: 1.1701\n",
            "Epoch 49/100\n",
            "9/9 [==============================] - 1s 109ms/step - loss: 1.1145\n",
            "Epoch 50/100\n",
            "9/9 [==============================] - 1s 107ms/step - loss: 1.0642\n",
            "Epoch 51/100\n",
            "9/9 [==============================] - 1s 104ms/step - loss: 1.0165\n",
            "Epoch 52/100\n",
            "9/9 [==============================] - 1s 129ms/step - loss: 0.9614\n",
            "Epoch 53/100\n",
            "9/9 [==============================] - 1s 111ms/step - loss: 0.9095\n",
            "Epoch 54/100\n",
            "9/9 [==============================] - 1s 132ms/step - loss: 0.8537\n",
            "Epoch 55/100\n",
            "9/9 [==============================] - 1s 108ms/step - loss: 0.7990\n",
            "Epoch 56/100\n",
            "9/9 [==============================] - 1s 116ms/step - loss: 0.7475\n",
            "Epoch 57/100\n",
            "9/9 [==============================] - 1s 107ms/step - loss: 0.6959\n",
            "Epoch 58/100\n",
            "9/9 [==============================] - 2s 245ms/step - loss: 0.6379\n",
            "Epoch 59/100\n",
            "9/9 [==============================] - 1s 109ms/step - loss: 0.5842\n",
            "Epoch 60/100\n",
            "9/9 [==============================] - 1s 127ms/step - loss: 0.5316\n",
            "Epoch 61/100\n",
            "9/9 [==============================] - 1s 106ms/step - loss: 0.4834\n",
            "Epoch 62/100\n",
            "9/9 [==============================] - 1s 107ms/step - loss: 0.4355\n",
            "Epoch 63/100\n",
            "9/9 [==============================] - 1s 107ms/step - loss: 0.3934\n",
            "Epoch 64/100\n",
            "9/9 [==============================] - 1s 101ms/step - loss: 0.3541\n",
            "Epoch 65/100\n",
            "9/9 [==============================] - 1s 102ms/step - loss: 0.3209\n",
            "Epoch 66/100\n",
            "9/9 [==============================] - 1s 112ms/step - loss: 0.2856\n",
            "Epoch 67/100\n",
            "9/9 [==============================] - 1s 106ms/step - loss: 0.2556\n",
            "Epoch 68/100\n",
            "9/9 [==============================] - 1s 106ms/step - loss: 0.2291\n",
            "Epoch 69/100\n",
            "9/9 [==============================] - 1s 109ms/step - loss: 0.2063\n",
            "Epoch 70/100\n",
            "9/9 [==============================] - 1s 106ms/step - loss: 0.1856\n",
            "Epoch 71/100\n",
            "9/9 [==============================] - 1s 109ms/step - loss: 0.1662\n",
            "Epoch 72/100\n",
            "9/9 [==============================] - 1s 112ms/step - loss: 0.1506\n",
            "Epoch 73/100\n",
            "9/9 [==============================] - 1s 103ms/step - loss: 0.1369\n",
            "Epoch 74/100\n",
            "9/9 [==============================] - 1s 119ms/step - loss: 0.1251\n",
            "Epoch 75/100\n",
            "9/9 [==============================] - 1s 106ms/step - loss: 0.1158\n",
            "Epoch 76/100\n",
            "9/9 [==============================] - 1s 112ms/step - loss: 0.1080\n",
            "Epoch 77/100\n",
            "9/9 [==============================] - 1s 129ms/step - loss: 0.1014\n",
            "Epoch 78/100\n",
            "9/9 [==============================] - 1s 110ms/step - loss: 0.0953\n",
            "Epoch 79/100\n",
            "9/9 [==============================] - 1s 110ms/step - loss: 0.0895\n",
            "Epoch 80/100\n",
            "9/9 [==============================] - 1s 106ms/step - loss: 0.0849\n",
            "Epoch 81/100\n",
            "9/9 [==============================] - 1s 110ms/step - loss: 0.0811\n",
            "Epoch 82/100\n",
            "9/9 [==============================] - 1s 101ms/step - loss: 0.0774\n",
            "Epoch 83/100\n",
            "9/9 [==============================] - 1s 110ms/step - loss: 0.0745\n",
            "Epoch 84/100\n",
            "9/9 [==============================] - 1s 113ms/step - loss: 0.0715\n",
            "Epoch 85/100\n",
            "9/9 [==============================] - 1s 130ms/step - loss: 0.0691\n",
            "Epoch 86/100\n",
            "9/9 [==============================] - 1s 137ms/step - loss: 0.0667\n",
            "Epoch 87/100\n",
            "9/9 [==============================] - 1s 110ms/step - loss: 0.0647\n",
            "Epoch 88/100\n",
            "9/9 [==============================] - 1s 109ms/step - loss: 0.0632\n",
            "Epoch 89/100\n",
            "9/9 [==============================] - 1s 99ms/step - loss: 0.0616\n",
            "Epoch 90/100\n",
            "9/9 [==============================] - 1s 107ms/step - loss: 0.0599\n",
            "Epoch 91/100\n",
            "9/9 [==============================] - 1s 110ms/step - loss: 0.0588\n",
            "Epoch 92/100\n",
            "9/9 [==============================] - 1s 131ms/step - loss: 0.0570\n",
            "Epoch 93/100\n",
            "9/9 [==============================] - 1s 111ms/step - loss: 0.0564\n",
            "Epoch 94/100\n",
            "9/9 [==============================] - 1s 107ms/step - loss: 0.0551\n",
            "Epoch 95/100\n",
            "9/9 [==============================] - 1s 111ms/step - loss: 0.0541\n",
            "Epoch 96/100\n",
            "9/9 [==============================] - 1s 105ms/step - loss: 0.0535\n",
            "Epoch 97/100\n",
            "9/9 [==============================] - 1s 104ms/step - loss: 0.0526\n",
            "Epoch 98/100\n",
            "9/9 [==============================] - 1s 144ms/step - loss: 0.0518\n",
            "Epoch 99/100\n",
            "9/9 [==============================] - 1s 103ms/step - loss: 0.0512\n",
            "Epoch 100/100\n",
            "9/9 [==============================] - 1s 108ms/step - loss: 0.0505\n"
          ]
        }
      ],
      "source": [
        "history = model.fit(dataset, epochs=EPOCHS, callbacks=[checkpoint_callback])"
      ]
    },
    {
      "cell_type": "code",
      "execution_count": 37,
      "metadata": {
        "id": "P5FyP9B1g--e"
      },
      "outputs": [],
      "source": [
        "TEMP = 0.5"
      ]
    },
    {
      "cell_type": "code",
      "execution_count": 40,
      "metadata": {
        "id": "kUHrUZu0YQ9Q"
      },
      "outputs": [],
      "source": [
        "class OneStep(tf.keras.Model):\n",
        "  def __init__(self, model, ids_to_chars, chars_to_ids, temperature=TEMP):\n",
        "    super().__init__()\n",
        "    self.temperature = temperature\n",
        "    self.model = model\n",
        "    self.ids_to_chars = ids_to_chars\n",
        "    self.chars_to_ids = chars_to_ids\n",
        "\n",
        "    # Create a mask to prevent \"[UNK]\" from being generated.\n",
        "    skip_ids = self.chars_to_ids(['[UNK]'])[:, None]\n",
        "    sparse_mask = tf.SparseTensor(\n",
        "        # Put a -inf at each bad index.\n",
        "        values=[-float('inf')]*len(skip_ids),\n",
        "        indices=skip_ids,\n",
        "        # Match the shape to the vocabulary\n",
        "        dense_shape=[len(chars_to_ids.get_vocabulary())])\n",
        "    self.prediction_mask = tf.sparse.to_dense(sparse_mask)\n",
        "\n",
        "  @tf.function\n",
        "  def generate_one_step(self, inputs, states=None):\n",
        "    # Convert strings to token IDs.\n",
        "    input_chars = tf.strings.unicode_split(inputs, 'UTF-8')\n",
        "    input_ids = self.chars_to_ids(input_chars).to_tensor()\n",
        "\n",
        "    # Run model\n",
        "    # predicted_logits.shape is [batch, char, next_char_logits]\n",
        "    predicted_logits, states = self.model(inputs=input_ids, states=states,\n",
        "                                          return_state=True)\n",
        "    # Only use the last prediction.\n",
        "    predicted_logits = predicted_logits[:, -1, :]\n",
        "    predicted_logits = predicted_logits/self.temperature\n",
        "    # Apply prediction mask: prevent UNK generation.\n",
        "    predicted_logits = predicted_logits + self.prediction_mask\n",
        "\n",
        "    # Sample output logits to generate token IDs.\n",
        "    predicted_ids = tf.random.categorical(predicted_logits, num_samples=1)\n",
        "    predicted_ids = tf.squeeze(predicted_ids, axis=-1)\n",
        "\n",
        "    # Convert token ids to characters\n",
        "    predicted_chars = self.ids_to_chars(predicted_ids)\n",
        "\n",
        "    # Return characters and model state.\n",
        "    return predicted_chars, states"
      ]
    },
    {
      "cell_type": "code",
      "execution_count": 41,
      "metadata": {
        "id": "nFf6wOvlYS14"
      },
      "outputs": [],
      "source": [
        "one_step_model = OneStep(model, ids_to_chars, chars_to_ids)"
      ]
    },
    {
      "cell_type": "code",
      "execution_count": 44,
      "metadata": {
        "id": "ZtuDzci2qp_r"
      },
      "outputs": [],
      "source": [
        "SEED = \"Is this a light novel title?\""
      ]
    },
    {
      "cell_type": "code",
      "execution_count": 45,
      "metadata": {
        "colab": {
          "base_uri": "https://localhost:8080/"
        },
        "id": "DBWRSXRcYZX0",
        "outputId": "2c0b94fe-668a-4b02-9012-d51f373fe496"
      },
      "outputs": [
        {
          "name": "stdout",
          "output_type": "stream",
          "text": [
            "Is this a light novel title?\t\n",
            "\"Tee Onl OwMy Fett Commonites\"\t\n",
            "Baby is Created Go For Much, is a Gothure Tare\t\n",
            "I Have A Super USB Drive\t\n",
            "The Kingdom of Endless Magic!\t\n",
            "Reincarnated as an Aristocrat with the First Step\t\n",
            "Cheat Skills in Another World and Live by Relying on Other's World\t\n",
            "The Failure Red Mage is Unmatched\t\n",
            "Without Elfays The World\t\n",
            "King Artule ~ Thes the Hero and the Saintess\"\t\n",
            "My Daughter Grew Until Hist Disch\t\n",
            "A SIcueme the Harat Skold\t\n",
            "The Grast Emperor as Husband\t\n",
            "The Struggle of Returning to Be a Horror Movie Boss\t\n",
            "Never Thought You'd Be This Kind of Hero!\t\n",
            "A Mid-leve Sprongest After Spamming the 100 Million Years Buttong of the Villain\t\n",
            "The Novel's Extra\t\n",
            "Mahou Gakuen no Taizai Majutsushi\t\n",
            "She's the Older Sister of the Possessed With Me After I Saved Him\t\n",
            "Omake no Tensei-sha\t\n",
            "I'm Really Not The Demon God's Lacker\t\n",
            "\"The Dragon Thio Loves in Another World\t\n",
            "\"I Became a Regulatory Official for the Poactsu\"\t\n",
            "Thr Poorion Life In The Regent\t\n",
            "\"Hen na Ryu to Moto Yuusha Party no Kawar\t\n",
            "Every Woll Se I'll Be All Magic in the Wilderness Plains\t\n",
            "\"I Was Supposed to Spread Great Misfortune in a Bishoujo Gamer no Isekai Seikatsu ~ Kōeinanoni zen'ei de Sukai Mimou wa Game da to, Ore dake Make II Gots at the Began Who Healed Him. Thank You, Now I Can Fight Again–! [Saint Something with a Network Cheat\t\n",
            "Moto Sekai Ichi'i no Sub-chara Ikusei Nikki\t\n",
            "Golden Experience\t\n",
            "Reborn as the Hero's Daughter! Time to Become the Hero Only I Level Up\t\n",
            "Game To Kill Humans and Get 100 Points. But My Priority Is Armintay\t\n",
            "\"The Corporate S*ave Dragged into the Saint Summoning\t\n",
            "\"A Genius Healer Who Can Treat Instantly but no Shoukas Shitakare, Is as the Doatin Exple\t\n",
            "Noble Selsched\t\n",
            "Ore no Kioku ga nai Isekai no Danjon to Maho no Gakko\t\n",
            "Aiming to Be an Orc Gentleman\t\n",
            "Runoushi Ssukai Seikatsu ni Suruthu Miyou wa Shiawa Saikyou (WN)\t\n",
            "Nihonkoku Shoukan (LN)\t\n",
            "Ex Strongest Swordsman Longs For Magic Power – I Knew Your Magic Theory Was Wrong, Did Evolution\t\n",
            "The Cursed Girl and th \n",
            "\n",
            "________________________________________________________________________________\n",
            "\n",
            "Run time: 7.865994453430176\n"
          ]
        }
      ],
      "source": [
        "start = time.time()\n",
        "states = None\n",
        "# Start String\n",
        "next_char = tf.constant([SEED])\n",
        "result = [next_char]\n",
        "\n",
        "for n in range(2000):\n",
        "  next_char, states = one_step_model.generate_one_step(next_char, states=states)\n",
        "  # TODO: Check if generated title is in source text, if yes -> regenerate\n",
        "  result.append(next_char)\n",
        "\n",
        "result = tf.strings.join(result)\n",
        "end = time.time()\n",
        "print(result[0].numpy().decode('utf-8'), '\\n\\n' + '_'*80)\n",
        "print('\\nRun time:', end - start)"
      ]
    },
    {
      "cell_type": "markdown",
      "metadata": {
        "id": "FetoZck_h0Gp"
      },
      "source": [
        "## Export Generator"
      ]
    },
    {
      "cell_type": "code",
      "execution_count": null,
      "metadata": {
        "colab": {
          "base_uri": "https://localhost:8080/"
        },
        "id": "Kt8l1dGjh2Gx",
        "outputId": "e3296521-ac1c-4177-a668-fcb014e4d873"
      },
      "outputs": [],
      "source": [
        "tf.saved_model.save(one_step_model, 'one_step')\n",
        "one_step_reloaded = tf.saved_model.load('one_step')"
      ]
    },
    {
      "cell_type": "code",
      "execution_count": null,
      "metadata": {
        "colab": {
          "base_uri": "https://localhost:8080/"
        },
        "id": "rFUBmhMph3gI",
        "outputId": "3546da95-a196-42c5-da0a-92f04f7959e9"
      },
      "outputs": [],
      "source": [
        "states = None\n",
        "next_char = tf.constant([SEED])\n",
        "result = [next_char]\n",
        "\n",
        "for n in range(100):\n",
        "  next_char, states = one_step_reloaded.generate_one_step(next_char, states=states)\n",
        "  result.append(next_char)\n",
        "\n",
        "print(tf.strings.join(result)[0].numpy().decode(\"utf-8\"))"
      ]
    }
  ],
  "metadata": {
    "accelerator": "GPU",
    "colab": {
      "collapsed_sections": [
        "61dTVqYuXsZ_"
      ],
      "name": "Light Novel Title Recurrent Neural Network.ipynb",
      "provenance": []
    },
    "kernelspec": {
      "display_name": "Python 3",
      "name": "python3"
    },
    "language_info": {
      "codemirror_mode": {
        "name": "ipython",
        "version": 3
      },
      "file_extension": ".py",
      "mimetype": "text/x-python",
      "name": "python",
      "nbconvert_exporter": "python",
      "pygments_lexer": "ipython3",
      "version": "3.9.7"
    }
  },
  "nbformat": 4,
  "nbformat_minor": 0
}
